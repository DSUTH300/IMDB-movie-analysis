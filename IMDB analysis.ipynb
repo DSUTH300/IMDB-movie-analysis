{
 "cells": [
  {
   "cell_type": "markdown",
   "id": "6b3254bf",
   "metadata": {},
   "source": [
    "# Analysis of IMDB Rating and Meta Rating of top 1000 IMDB movies\n",
    "\n",
    "\n",
    "What is IMDB rating:-\n",
    "\n",
    "MDb registered users can cast a vote (from 1 to 10) on every released title in the database. Individual votes are then aggregated and summarized as a single IMDb rating, visible on the title's main page.\n",
    "\n",
    "What is Meta rating:-\n",
    "\n",
    "Metacritic is a website that aggregates reviews of films, TV shows, music albums, video games and formerly, books. For each product, the scores from each review are averaged.\n",
    "\n",
    "\n",
    "# Scope :- To clean and analyse top 1000 IMDB dataset to answer the following questions:-\n",
    "\n",
    "1) What era was the most number of top 1000 IMDB movies released ?\n",
    "\n",
    "2) What is the top rated Genre?\n",
    "\n",
    "3) Does movie certificates play a role in overall ratings of the movie?\n",
    "\n",
    "4) Creating a new metrix to determine the top 10 movies which includes both Meta and IMDb ratings\n",
    "\n",
    "5) Who is the best director ?\n",
    "\n",
    "6) Does movie released date play a role in overall ratings of the movie?\n",
    "\n",
    "7) What is the average movie duration ?\n",
    "\n",
    "8) Is there a correlation between IMDB ratings, Meta rating and total rating?\n",
    "\n",
    "9) Try to answer how to increase the chances of producing a movie that will inturn have a high Meta and IMDB rating.\n",
    "\n"
   ]
  },
  {
   "cell_type": "code",
   "execution_count": 1,
   "id": "1aa73a2b",
   "metadata": {},
   "outputs": [],
   "source": [
    "import pandas as pd\n",
    "from pandas import Series,DataFrame\n",
    "import os\n",
    "working_dictionery = os.getcwd()\n",
    "path = working_dictionery + '/My Python Stuff/imdb_top_1000.csv'\n",
    "imdb = pd.read_csv(path)\n",
    "\n",
    "# Importing the data file"
   ]
  },
  {
   "cell_type": "code",
   "execution_count": 2,
   "id": "07afb4ad",
   "metadata": {},
   "outputs": [],
   "source": [
    "import numpy as np\n",
    "import matplotlib.pyplot as plt\n",
    "import seaborn as sns\n",
    "%matplotlib inline\n",
    "from pandas import DataFrame\n",
    "\n",
    "#Importing the libraries"
   ]
  },
  {
   "cell_type": "code",
   "execution_count": 3,
   "id": "6d828b82",
   "metadata": {},
   "outputs": [
    {
     "data": {
      "text/html": [
       "<div>\n",
       "<style scoped>\n",
       "    .dataframe tbody tr th:only-of-type {\n",
       "        vertical-align: middle;\n",
       "    }\n",
       "\n",
       "    .dataframe tbody tr th {\n",
       "        vertical-align: top;\n",
       "    }\n",
       "\n",
       "    .dataframe thead th {\n",
       "        text-align: right;\n",
       "    }\n",
       "</style>\n",
       "<table border=\"1\" class=\"dataframe\">\n",
       "  <thead>\n",
       "    <tr style=\"text-align: right;\">\n",
       "      <th></th>\n",
       "      <th>Poster_Link</th>\n",
       "      <th>Series_Title</th>\n",
       "      <th>Released_Year</th>\n",
       "      <th>Certificate</th>\n",
       "      <th>Runtime</th>\n",
       "      <th>Genre</th>\n",
       "      <th>IMDB_Rating</th>\n",
       "      <th>Overview</th>\n",
       "      <th>Meta_score</th>\n",
       "      <th>Director</th>\n",
       "      <th>Star1</th>\n",
       "      <th>Star2</th>\n",
       "      <th>Star3</th>\n",
       "      <th>Star4</th>\n",
       "      <th>No_of_Votes</th>\n",
       "      <th>Gross</th>\n",
       "    </tr>\n",
       "  </thead>\n",
       "  <tbody>\n",
       "    <tr>\n",
       "      <th>0</th>\n",
       "      <td>https://m.media-amazon.com/images/M/MV5BMDFkYT...</td>\n",
       "      <td>The Shawshank Redemption</td>\n",
       "      <td>1994</td>\n",
       "      <td>A</td>\n",
       "      <td>142 min</td>\n",
       "      <td>Drama</td>\n",
       "      <td>9.3</td>\n",
       "      <td>Two imprisoned men bond over a number of years...</td>\n",
       "      <td>80.0</td>\n",
       "      <td>Frank Darabont</td>\n",
       "      <td>Tim Robbins</td>\n",
       "      <td>Morgan Freeman</td>\n",
       "      <td>Bob Gunton</td>\n",
       "      <td>William Sadler</td>\n",
       "      <td>2343110</td>\n",
       "      <td>28,341,469</td>\n",
       "    </tr>\n",
       "    <tr>\n",
       "      <th>1</th>\n",
       "      <td>https://m.media-amazon.com/images/M/MV5BM2MyNj...</td>\n",
       "      <td>The Godfather</td>\n",
       "      <td>1972</td>\n",
       "      <td>A</td>\n",
       "      <td>175 min</td>\n",
       "      <td>Crime, Drama</td>\n",
       "      <td>9.2</td>\n",
       "      <td>An organized crime dynasty's aging patriarch t...</td>\n",
       "      <td>100.0</td>\n",
       "      <td>Francis Ford Coppola</td>\n",
       "      <td>Marlon Brando</td>\n",
       "      <td>Al Pacino</td>\n",
       "      <td>James Caan</td>\n",
       "      <td>Diane Keaton</td>\n",
       "      <td>1620367</td>\n",
       "      <td>134,966,411</td>\n",
       "    </tr>\n",
       "    <tr>\n",
       "      <th>2</th>\n",
       "      <td>https://m.media-amazon.com/images/M/MV5BMTMxNT...</td>\n",
       "      <td>The Dark Knight</td>\n",
       "      <td>2008</td>\n",
       "      <td>UA</td>\n",
       "      <td>152 min</td>\n",
       "      <td>Action, Crime, Drama</td>\n",
       "      <td>9.0</td>\n",
       "      <td>When the menace known as the Joker wreaks havo...</td>\n",
       "      <td>84.0</td>\n",
       "      <td>Christopher Nolan</td>\n",
       "      <td>Christian Bale</td>\n",
       "      <td>Heath Ledger</td>\n",
       "      <td>Aaron Eckhart</td>\n",
       "      <td>Michael Caine</td>\n",
       "      <td>2303232</td>\n",
       "      <td>534,858,444</td>\n",
       "    </tr>\n",
       "    <tr>\n",
       "      <th>3</th>\n",
       "      <td>https://m.media-amazon.com/images/M/MV5BMWMwMG...</td>\n",
       "      <td>The Godfather: Part II</td>\n",
       "      <td>1974</td>\n",
       "      <td>A</td>\n",
       "      <td>202 min</td>\n",
       "      <td>Crime, Drama</td>\n",
       "      <td>9.0</td>\n",
       "      <td>The early life and career of Vito Corleone in ...</td>\n",
       "      <td>90.0</td>\n",
       "      <td>Francis Ford Coppola</td>\n",
       "      <td>Al Pacino</td>\n",
       "      <td>Robert De Niro</td>\n",
       "      <td>Robert Duvall</td>\n",
       "      <td>Diane Keaton</td>\n",
       "      <td>1129952</td>\n",
       "      <td>57,300,000</td>\n",
       "    </tr>\n",
       "    <tr>\n",
       "      <th>4</th>\n",
       "      <td>https://m.media-amazon.com/images/M/MV5BMWU4N2...</td>\n",
       "      <td>12 Angry Men</td>\n",
       "      <td>1957</td>\n",
       "      <td>U</td>\n",
       "      <td>96 min</td>\n",
       "      <td>Crime, Drama</td>\n",
       "      <td>9.0</td>\n",
       "      <td>A jury holdout attempts to prevent a miscarria...</td>\n",
       "      <td>96.0</td>\n",
       "      <td>Sidney Lumet</td>\n",
       "      <td>Henry Fonda</td>\n",
       "      <td>Lee J. Cobb</td>\n",
       "      <td>Martin Balsam</td>\n",
       "      <td>John Fiedler</td>\n",
       "      <td>689845</td>\n",
       "      <td>4,360,000</td>\n",
       "    </tr>\n",
       "  </tbody>\n",
       "</table>\n",
       "</div>"
      ],
      "text/plain": [
       "                                         Poster_Link  \\\n",
       "0  https://m.media-amazon.com/images/M/MV5BMDFkYT...   \n",
       "1  https://m.media-amazon.com/images/M/MV5BM2MyNj...   \n",
       "2  https://m.media-amazon.com/images/M/MV5BMTMxNT...   \n",
       "3  https://m.media-amazon.com/images/M/MV5BMWMwMG...   \n",
       "4  https://m.media-amazon.com/images/M/MV5BMWU4N2...   \n",
       "\n",
       "               Series_Title Released_Year Certificate  Runtime  \\\n",
       "0  The Shawshank Redemption          1994           A  142 min   \n",
       "1             The Godfather          1972           A  175 min   \n",
       "2           The Dark Knight          2008          UA  152 min   \n",
       "3    The Godfather: Part II          1974           A  202 min   \n",
       "4              12 Angry Men          1957           U   96 min   \n",
       "\n",
       "                  Genre  IMDB_Rating  \\\n",
       "0                 Drama          9.3   \n",
       "1          Crime, Drama          9.2   \n",
       "2  Action, Crime, Drama          9.0   \n",
       "3          Crime, Drama          9.0   \n",
       "4          Crime, Drama          9.0   \n",
       "\n",
       "                                            Overview  Meta_score  \\\n",
       "0  Two imprisoned men bond over a number of years...        80.0   \n",
       "1  An organized crime dynasty's aging patriarch t...       100.0   \n",
       "2  When the menace known as the Joker wreaks havo...        84.0   \n",
       "3  The early life and career of Vito Corleone in ...        90.0   \n",
       "4  A jury holdout attempts to prevent a miscarria...        96.0   \n",
       "\n",
       "               Director           Star1           Star2          Star3  \\\n",
       "0        Frank Darabont     Tim Robbins  Morgan Freeman     Bob Gunton   \n",
       "1  Francis Ford Coppola   Marlon Brando       Al Pacino     James Caan   \n",
       "2     Christopher Nolan  Christian Bale    Heath Ledger  Aaron Eckhart   \n",
       "3  Francis Ford Coppola       Al Pacino  Robert De Niro  Robert Duvall   \n",
       "4          Sidney Lumet     Henry Fonda     Lee J. Cobb  Martin Balsam   \n",
       "\n",
       "            Star4  No_of_Votes        Gross  \n",
       "0  William Sadler      2343110   28,341,469  \n",
       "1    Diane Keaton      1620367  134,966,411  \n",
       "2   Michael Caine      2303232  534,858,444  \n",
       "3    Diane Keaton      1129952   57,300,000  \n",
       "4    John Fiedler       689845    4,360,000  "
      ]
     },
     "execution_count": 3,
     "metadata": {},
     "output_type": "execute_result"
    }
   ],
   "source": [
    "\n",
    "imdb.head()"
   ]
  },
  {
   "cell_type": "markdown",
   "id": "cb847588",
   "metadata": {},
   "source": [
    "Lets start the cleaning process by removing Poster Link, Overview,Star1,Star2,Star3,Star4 as we will not be needing them for analysis. "
   ]
  },
  {
   "cell_type": "code",
   "execution_count": 8,
   "id": "1cd24eb8",
   "metadata": {},
   "outputs": [],
   "source": [
    "imdb1 = imdb.drop(columns=['Poster_Link','Overview','Star1','Star2','Star3','Star4'])#Removing the Columbs"
   ]
  },
  {
   "cell_type": "code",
   "execution_count": 9,
   "id": "9f00291e",
   "metadata": {},
   "outputs": [
    {
     "data": {
      "text/html": [
       "<div>\n",
       "<style scoped>\n",
       "    .dataframe tbody tr th:only-of-type {\n",
       "        vertical-align: middle;\n",
       "    }\n",
       "\n",
       "    .dataframe tbody tr th {\n",
       "        vertical-align: top;\n",
       "    }\n",
       "\n",
       "    .dataframe thead th {\n",
       "        text-align: right;\n",
       "    }\n",
       "</style>\n",
       "<table border=\"1\" class=\"dataframe\">\n",
       "  <thead>\n",
       "    <tr style=\"text-align: right;\">\n",
       "      <th></th>\n",
       "      <th>Series_Title</th>\n",
       "      <th>Released_Year</th>\n",
       "      <th>Certificate</th>\n",
       "      <th>Runtime</th>\n",
       "      <th>Genre</th>\n",
       "      <th>IMDB_Rating</th>\n",
       "      <th>Meta_score</th>\n",
       "      <th>Director</th>\n",
       "      <th>No_of_Votes</th>\n",
       "      <th>Gross</th>\n",
       "    </tr>\n",
       "  </thead>\n",
       "  <tbody>\n",
       "    <tr>\n",
       "      <th>0</th>\n",
       "      <td>The Shawshank Redemption</td>\n",
       "      <td>1994</td>\n",
       "      <td>A</td>\n",
       "      <td>142 min</td>\n",
       "      <td>Drama</td>\n",
       "      <td>9.3</td>\n",
       "      <td>80.0</td>\n",
       "      <td>Frank Darabont</td>\n",
       "      <td>2343110</td>\n",
       "      <td>28,341,469</td>\n",
       "    </tr>\n",
       "    <tr>\n",
       "      <th>1</th>\n",
       "      <td>The Godfather</td>\n",
       "      <td>1972</td>\n",
       "      <td>A</td>\n",
       "      <td>175 min</td>\n",
       "      <td>Crime, Drama</td>\n",
       "      <td>9.2</td>\n",
       "      <td>100.0</td>\n",
       "      <td>Francis Ford Coppola</td>\n",
       "      <td>1620367</td>\n",
       "      <td>134,966,411</td>\n",
       "    </tr>\n",
       "    <tr>\n",
       "      <th>2</th>\n",
       "      <td>The Dark Knight</td>\n",
       "      <td>2008</td>\n",
       "      <td>UA</td>\n",
       "      <td>152 min</td>\n",
       "      <td>Action, Crime, Drama</td>\n",
       "      <td>9.0</td>\n",
       "      <td>84.0</td>\n",
       "      <td>Christopher Nolan</td>\n",
       "      <td>2303232</td>\n",
       "      <td>534,858,444</td>\n",
       "    </tr>\n",
       "    <tr>\n",
       "      <th>3</th>\n",
       "      <td>The Godfather: Part II</td>\n",
       "      <td>1974</td>\n",
       "      <td>A</td>\n",
       "      <td>202 min</td>\n",
       "      <td>Crime, Drama</td>\n",
       "      <td>9.0</td>\n",
       "      <td>90.0</td>\n",
       "      <td>Francis Ford Coppola</td>\n",
       "      <td>1129952</td>\n",
       "      <td>57,300,000</td>\n",
       "    </tr>\n",
       "    <tr>\n",
       "      <th>4</th>\n",
       "      <td>12 Angry Men</td>\n",
       "      <td>1957</td>\n",
       "      <td>U</td>\n",
       "      <td>96 min</td>\n",
       "      <td>Crime, Drama</td>\n",
       "      <td>9.0</td>\n",
       "      <td>96.0</td>\n",
       "      <td>Sidney Lumet</td>\n",
       "      <td>689845</td>\n",
       "      <td>4,360,000</td>\n",
       "    </tr>\n",
       "  </tbody>\n",
       "</table>\n",
       "</div>"
      ],
      "text/plain": [
       "               Series_Title Released_Year Certificate  Runtime  \\\n",
       "0  The Shawshank Redemption          1994           A  142 min   \n",
       "1             The Godfather          1972           A  175 min   \n",
       "2           The Dark Knight          2008          UA  152 min   \n",
       "3    The Godfather: Part II          1974           A  202 min   \n",
       "4              12 Angry Men          1957           U   96 min   \n",
       "\n",
       "                  Genre  IMDB_Rating  Meta_score              Director  \\\n",
       "0                 Drama          9.3        80.0        Frank Darabont   \n",
       "1          Crime, Drama          9.2       100.0  Francis Ford Coppola   \n",
       "2  Action, Crime, Drama          9.0        84.0     Christopher Nolan   \n",
       "3          Crime, Drama          9.0        90.0  Francis Ford Coppola   \n",
       "4          Crime, Drama          9.0        96.0          Sidney Lumet   \n",
       "\n",
       "   No_of_Votes        Gross  \n",
       "0      2343110   28,341,469  \n",
       "1      1620367  134,966,411  \n",
       "2      2303232  534,858,444  \n",
       "3      1129952   57,300,000  \n",
       "4       689845    4,360,000  "
      ]
     },
     "execution_count": 9,
     "metadata": {},
     "output_type": "execute_result"
    }
   ],
   "source": [
    "imdb1.head()#Looks Cleaner"
   ]
  },
  {
   "cell_type": "code",
   "execution_count": 7,
   "id": "58d40326",
   "metadata": {},
   "outputs": [
    {
     "name": "stdout",
     "output_type": "stream",
     "text": [
      "<class 'pandas.core.frame.DataFrame'>\n",
      "RangeIndex: 1000 entries, 0 to 999\n",
      "Data columns (total 10 columns):\n",
      " #   Column         Non-Null Count  Dtype  \n",
      "---  ------         --------------  -----  \n",
      " 0   Series_Title   1000 non-null   object \n",
      " 1   Released_Year  1000 non-null   object \n",
      " 2   Certificate    899 non-null    object \n",
      " 3   Runtime        1000 non-null   object \n",
      " 4   Genre          1000 non-null   object \n",
      " 5   IMDB_Rating    1000 non-null   float64\n",
      " 6   Meta_score     843 non-null    float64\n",
      " 7   Director       1000 non-null   object \n",
      " 8   No_of_Votes    1000 non-null   int64  \n",
      " 9   Gross          831 non-null    object \n",
      "dtypes: float64(2), int64(1), object(7)\n",
      "memory usage: 78.2+ KB\n"
     ]
    }
   ],
   "source": [
    "imdb1.info()# Looking at the Info"
   ]
  },
  {
   "cell_type": "markdown",
   "id": "aa8cb735",
   "metadata": {},
   "source": [
    "We can observe from here that Columbs- Certificate and Meta_Score has Null values.The first step we will be doing is to change Released Year to Integer for analysis."
   ]
  },
  {
   "cell_type": "markdown",
   "id": "9b609d1f",
   "metadata": {},
   "source": [
    "While changing Released Year to an integer Data type we got an error message that the column contained a row with 'PG' in it. Lets further investigate."
   ]
  },
  {
   "cell_type": "code",
   "execution_count": 10,
   "id": "4cce2a4c",
   "metadata": {},
   "outputs": [
    {
     "data": {
      "text/html": [
       "<div>\n",
       "<style scoped>\n",
       "    .dataframe tbody tr th:only-of-type {\n",
       "        vertical-align: middle;\n",
       "    }\n",
       "\n",
       "    .dataframe tbody tr th {\n",
       "        vertical-align: top;\n",
       "    }\n",
       "\n",
       "    .dataframe thead th {\n",
       "        text-align: right;\n",
       "    }\n",
       "</style>\n",
       "<table border=\"1\" class=\"dataframe\">\n",
       "  <thead>\n",
       "    <tr style=\"text-align: right;\">\n",
       "      <th></th>\n",
       "      <th>Released_Year</th>\n",
       "      <th>Genre</th>\n",
       "      <th>Series_Title</th>\n",
       "    </tr>\n",
       "  </thead>\n",
       "  <tbody>\n",
       "    <tr>\n",
       "      <th>966</th>\n",
       "      <td>PG</td>\n",
       "      <td>Adventure, Drama, History</td>\n",
       "      <td>Apollo 13</td>\n",
       "    </tr>\n",
       "  </tbody>\n",
       "</table>\n",
       "</div>"
      ],
      "text/plain": [
       "    Released_Year                      Genre Series_Title\n",
       "966            PG  Adventure, Drama, History    Apollo 13"
      ]
     },
     "execution_count": 10,
     "metadata": {},
     "output_type": "execute_result"
    }
   ],
   "source": [
    "imdb1.loc[imdb.Released_Year == 'PG',['Released_Year','Genre','Series_Title']] \n",
    "# to see which row contains PG in Released Year Column"
   ]
  },
  {
   "cell_type": "markdown",
   "id": "c4f9aab0",
   "metadata": {},
   "source": [
    "Apon further Investigation we found out that the column Apollo 13 had Released Year indecated as 'PG'. Lets change it to 1995- the year Apollo 13 movie was released.\n"
   ]
  },
  {
   "cell_type": "code",
   "execution_count": 11,
   "id": "70229ba4",
   "metadata": {},
   "outputs": [],
   "source": [
    "imdb1['Released_Year']=imdb1['Released_Year'].replace(to_replace='PG',value=1995)\n",
    "# Changing the Released year to 1995."
   ]
  },
  {
   "cell_type": "code",
   "execution_count": 12,
   "id": "c7387cf1",
   "metadata": {},
   "outputs": [],
   "source": [
    "imdb1['Released_Year'] = imdb1['Released_Year'].apply(int)\n",
    "#Changing the data type to integers"
   ]
  },
  {
   "cell_type": "code",
   "execution_count": 13,
   "id": "0c61163e",
   "metadata": {},
   "outputs": [
    {
     "name": "stdout",
     "output_type": "stream",
     "text": [
      "<class 'pandas.core.frame.DataFrame'>\n",
      "RangeIndex: 1000 entries, 0 to 999\n",
      "Data columns (total 10 columns):\n",
      " #   Column         Non-Null Count  Dtype  \n",
      "---  ------         --------------  -----  \n",
      " 0   Series_Title   1000 non-null   object \n",
      " 1   Released_Year  1000 non-null   int64  \n",
      " 2   Certificate    899 non-null    object \n",
      " 3   Runtime        1000 non-null   object \n",
      " 4   Genre          1000 non-null   object \n",
      " 5   IMDB_Rating    1000 non-null   float64\n",
      " 6   Meta_score     843 non-null    float64\n",
      " 7   Director       1000 non-null   object \n",
      " 8   No_of_Votes    1000 non-null   int64  \n",
      " 9   Gross          831 non-null    object \n",
      "dtypes: float64(2), int64(2), object(6)\n",
      "memory usage: 78.2+ KB\n"
     ]
    }
   ],
   "source": [
    "imdb1.info()\n",
    "#Perfect we have successfully changed the data type to integer"
   ]
  },
  {
   "cell_type": "code",
   "execution_count": 15,
   "id": "c56b9f0e",
   "metadata": {},
   "outputs": [],
   "source": [
    "def Released_Group(Year):\n",
    "    Released_Year = Year\n",
    "    \n",
    "    if Year >= 2000:\n",
    "        return 'After 2000'\n",
    "    \n",
    "    elif Year in range (1980,2000):\n",
    "        return '1980-2000'\n",
    "    \n",
    "    else:\n",
    "        return 'Before 1980'\n",
    "    \n",
    "    # segregating Year to 3 catagories"
   ]
  },
  {
   "cell_type": "code",
   "execution_count": 16,
   "id": "9c6b4f05",
   "metadata": {},
   "outputs": [],
   "source": [
    "imdb1['Released Group'] = imdb1['Released_Year'].apply(Released_Group)\n",
    "\n",
    "# adding it into the existing Data"
   ]
  },
  {
   "cell_type": "code",
   "execution_count": 17,
   "id": "b4bfeb8f",
   "metadata": {},
   "outputs": [
    {
     "data": {
      "text/html": [
       "<div>\n",
       "<style scoped>\n",
       "    .dataframe tbody tr th:only-of-type {\n",
       "        vertical-align: middle;\n",
       "    }\n",
       "\n",
       "    .dataframe tbody tr th {\n",
       "        vertical-align: top;\n",
       "    }\n",
       "\n",
       "    .dataframe thead th {\n",
       "        text-align: right;\n",
       "    }\n",
       "</style>\n",
       "<table border=\"1\" class=\"dataframe\">\n",
       "  <thead>\n",
       "    <tr style=\"text-align: right;\">\n",
       "      <th></th>\n",
       "      <th>Series_Title</th>\n",
       "      <th>Released_Year</th>\n",
       "      <th>Certificate</th>\n",
       "      <th>Runtime</th>\n",
       "      <th>Genre</th>\n",
       "      <th>IMDB_Rating</th>\n",
       "      <th>Meta_score</th>\n",
       "      <th>Director</th>\n",
       "      <th>No_of_Votes</th>\n",
       "      <th>Gross</th>\n",
       "      <th>Released Group</th>\n",
       "    </tr>\n",
       "  </thead>\n",
       "  <tbody>\n",
       "    <tr>\n",
       "      <th>0</th>\n",
       "      <td>The Shawshank Redemption</td>\n",
       "      <td>1994</td>\n",
       "      <td>A</td>\n",
       "      <td>142 min</td>\n",
       "      <td>Drama</td>\n",
       "      <td>9.3</td>\n",
       "      <td>80.0</td>\n",
       "      <td>Frank Darabont</td>\n",
       "      <td>2343110</td>\n",
       "      <td>28,341,469</td>\n",
       "      <td>1980-2000</td>\n",
       "    </tr>\n",
       "    <tr>\n",
       "      <th>1</th>\n",
       "      <td>The Godfather</td>\n",
       "      <td>1972</td>\n",
       "      <td>A</td>\n",
       "      <td>175 min</td>\n",
       "      <td>Crime, Drama</td>\n",
       "      <td>9.2</td>\n",
       "      <td>100.0</td>\n",
       "      <td>Francis Ford Coppola</td>\n",
       "      <td>1620367</td>\n",
       "      <td>134,966,411</td>\n",
       "      <td>Before 1980</td>\n",
       "    </tr>\n",
       "    <tr>\n",
       "      <th>2</th>\n",
       "      <td>The Dark Knight</td>\n",
       "      <td>2008</td>\n",
       "      <td>UA</td>\n",
       "      <td>152 min</td>\n",
       "      <td>Action, Crime, Drama</td>\n",
       "      <td>9.0</td>\n",
       "      <td>84.0</td>\n",
       "      <td>Christopher Nolan</td>\n",
       "      <td>2303232</td>\n",
       "      <td>534,858,444</td>\n",
       "      <td>After 2000</td>\n",
       "    </tr>\n",
       "    <tr>\n",
       "      <th>3</th>\n",
       "      <td>The Godfather: Part II</td>\n",
       "      <td>1974</td>\n",
       "      <td>A</td>\n",
       "      <td>202 min</td>\n",
       "      <td>Crime, Drama</td>\n",
       "      <td>9.0</td>\n",
       "      <td>90.0</td>\n",
       "      <td>Francis Ford Coppola</td>\n",
       "      <td>1129952</td>\n",
       "      <td>57,300,000</td>\n",
       "      <td>Before 1980</td>\n",
       "    </tr>\n",
       "    <tr>\n",
       "      <th>4</th>\n",
       "      <td>12 Angry Men</td>\n",
       "      <td>1957</td>\n",
       "      <td>U</td>\n",
       "      <td>96 min</td>\n",
       "      <td>Crime, Drama</td>\n",
       "      <td>9.0</td>\n",
       "      <td>96.0</td>\n",
       "      <td>Sidney Lumet</td>\n",
       "      <td>689845</td>\n",
       "      <td>4,360,000</td>\n",
       "      <td>Before 1980</td>\n",
       "    </tr>\n",
       "  </tbody>\n",
       "</table>\n",
       "</div>"
      ],
      "text/plain": [
       "               Series_Title  Released_Year Certificate  Runtime  \\\n",
       "0  The Shawshank Redemption           1994           A  142 min   \n",
       "1             The Godfather           1972           A  175 min   \n",
       "2           The Dark Knight           2008          UA  152 min   \n",
       "3    The Godfather: Part II           1974           A  202 min   \n",
       "4              12 Angry Men           1957           U   96 min   \n",
       "\n",
       "                  Genre  IMDB_Rating  Meta_score              Director  \\\n",
       "0                 Drama          9.3        80.0        Frank Darabont   \n",
       "1          Crime, Drama          9.2       100.0  Francis Ford Coppola   \n",
       "2  Action, Crime, Drama          9.0        84.0     Christopher Nolan   \n",
       "3          Crime, Drama          9.0        90.0  Francis Ford Coppola   \n",
       "4          Crime, Drama          9.0        96.0          Sidney Lumet   \n",
       "\n",
       "   No_of_Votes        Gross Released Group  \n",
       "0      2343110   28,341,469      1980-2000  \n",
       "1      1620367  134,966,411    Before 1980  \n",
       "2      2303232  534,858,444     After 2000  \n",
       "3      1129952   57,300,000    Before 1980  \n",
       "4       689845    4,360,000    Before 1980  "
      ]
     },
     "execution_count": 17,
     "metadata": {},
     "output_type": "execute_result"
    }
   ],
   "source": [
    "imdb1.head()\n",
    "\n",
    "# Perfect we have the new Column Released Group"
   ]
  },
  {
   "cell_type": "code",
   "execution_count": 20,
   "id": "bf15eb81",
   "metadata": {},
   "outputs": [
    {
     "data": {
      "text/plain": [
       "[Text(0.5, 1.0, 'Number of movies in each group')]"
      ]
     },
     "execution_count": 20,
     "metadata": {},
     "output_type": "execute_result"
    },
    {
     "data": {
      "image/png": "[encoded data removed]",
      "text/plain": [
       "<Figure size 432x288 with 1 Axes>"
      ]
     },
     "metadata": {
      "needs_background": "light"
     },
     "output_type": "display_data"
    }
   ],
   "source": [
    "AB = sns.countplot(x= 'Released Group', data= imdb1, palette='winter_d')\n",
    "\n",
    "AB.set(title = 'Number of movies in each group')"
   ]
  },
  {
   "cell_type": "markdown",
   "id": "022f54c0",
   "metadata": {},
   "source": [
    "Here we can observe that majority of the movies which are in IMDB top 1000 list were made after 2000."
   ]
  },
  {
   "cell_type": "markdown",
   "id": "c8685a68",
   "metadata": {},
   "source": [
    "As Genre are in pairs, lets spit to find out what is the most prefered Genre"
   ]
  },
  {
   "cell_type": "code",
   "execution_count": 21,
   "id": "d3eb31ca",
   "metadata": {},
   "outputs": [
    {
     "data": {
      "text/plain": [
       "Drama        724\n",
       "Comedy       233\n",
       "Crime        209\n",
       "Adventure    196\n",
       "Action       189\n",
       "Thriller     137\n",
       "Romance      125\n",
       "Biography    109\n",
       "Mystery       99\n",
       "Animation     82\n",
       "Sci-Fi        67\n",
       "Fantasy       66\n",
       "History       56\n",
       "Family        56\n",
       "War           51\n",
       "Music         35\n",
       "Horror        32\n",
       "Western       20\n",
       "Film-Noir     19\n",
       "Sport         19\n",
       "Musical       17\n",
       "Name: Genre, dtype: int64"
      ]
     },
     "execution_count": 21,
     "metadata": {},
     "output_type": "execute_result"
    }
   ],
   "source": [
    "Genre = imdb['Genre'].str.split(', ')\n",
    "#Spliting by comma separation - important to leave a space after the comma as seen in Data.\n",
    "\n",
    "Genre_data = DataFrame(Genre) \n",
    "#Creating a Dataframe\n",
    "\n",
    "Genre_Data_split = Genre_data.explode(column= 'Genre')\n",
    "#to transform columns into rows\n",
    "\n",
    "Genre_Data_split['Genre'].value_counts()\n",
    "#Total count of each Genre"
   ]
  },
  {
   "cell_type": "code",
   "execution_count": 22,
   "id": "f3e19afa",
   "metadata": {},
   "outputs": [
    {
     "data": {
      "text/plain": [
       "Text(0.5, 1.0, 'Genre')"
      ]
     },
     "execution_count": 22,
     "metadata": {},
     "output_type": "execute_result"
    },
    {
     "data": {
      "image/png": "[encoded data removed]",
      "text/plain": [
       "<Figure size 1440x432 with 1 Axes>"
      ]
     },
     "metadata": {},
     "output_type": "display_data"
    }
   ],
   "source": [
    "sns.set(rc={\"figure.figsize\":(20, 6)})\n",
    "\n",
    "sns.countplot(x = 'Genre',data=Genre_Data_split,\n",
    "              order = Genre_Data_split['Genre'].value_counts().index, palette='viridis')\n",
    "\n",
    "plt.title('Genre', size = 20)\n",
    "\n",
    "# Creating a count plot with Seaborn"
   ]
  },
  {
   "cell_type": "markdown",
   "id": "dc91b860",
   "metadata": {},
   "source": [
    "From the Barchart we can come to the conclusion that, Drama is the most common Genre within top 1000 IMDB movies."
   ]
  },
  {
   "cell_type": "markdown",
   "id": "57508434",
   "metadata": {},
   "source": [
    "Lets look into the Certificate Column"
   ]
  },
  {
   "cell_type": "code",
   "execution_count": 23,
   "id": "737690c8",
   "metadata": {},
   "outputs": [
    {
     "data": {
      "text/plain": [
       "U           234\n",
       "A           197\n",
       "UA          175\n",
       "R           146\n",
       "PG-13        43\n",
       "PG           37\n",
       "Passed       34\n",
       "G            12\n",
       "Approved     11\n",
       "TV-PG         3\n",
       "GP            2\n",
       "TV-14         1\n",
       "16            1\n",
       "TV-MA         1\n",
       "Unrated       1\n",
       "U/A           1\n",
       "Name: Certificate, dtype: int64"
      ]
     },
     "execution_count": 23,
     "metadata": {},
     "output_type": "execute_result"
    }
   ],
   "source": [
    "imdb1['Certificate'].value_counts()"
   ]
  },
  {
   "cell_type": "markdown",
   "id": "23c9ca4c",
   "metadata": {},
   "source": [
    "Here we can see that there are 16 diffrent types of movie certificates because in diffrent countries they follow diffrent certificate metrix, lets clean the data in order to better understad it.\n",
    "\n",
    "Lets Group them into 4 Certifate categories:-\n",
    "\n",
    "U,UA,A,R [ As per Canada Movie Association]\n"
   ]
  },
  {
   "cell_type": "code",
   "execution_count": 24,
   "id": "669e9259",
   "metadata": {},
   "outputs": [],
   "source": [
    "imdb1['Certificate']=imdb1['Certificate'].replace(to_replace=['PG-13','PG','TV-PG','GP','TV-14','16','TV-MA','U/A']\n",
    "                                                  ,value=['UA','UA','UA','UA','UA','UA','UA','UA','UA'])\n",
    "\n",
    "# During futher research, It was found that PG13,PG,TVPG,GP,TV14,UA came under UA catergory.\n",
    "\n",
    "imdb1['Certificate']=imdb1['Certificate'].replace(to_replace=['Passed','Approved','Unrated']\n",
    "                                                  ,value=['U','U','U'])\n",
    "#It was found that Passed,Approved,Unrated came under U catergory.\n",
    "\n",
    "imdb1['Certificate']=imdb1['Certificate'].replace(to_replace='G'\n",
    "                                                  ,value='R')\n",
    "#It was found that G came under R catergory.\n",
    "\n",
    "imdb1['Certificate'].fillna(value='UA', inplace=True)\n",
    "\n",
    "#After reserching the null values came under UA category, as these movies where made before there was a set certificate criteria."
   ]
  },
  {
   "cell_type": "code",
   "execution_count": 26,
   "id": "b03289d7",
   "metadata": {},
   "outputs": [
    {
     "data": {
      "text/plain": [
       "UA    365\n",
       "U     280\n",
       "A     197\n",
       "R     158\n",
       "Name: Certificate, dtype: int64"
      ]
     },
     "execution_count": 26,
     "metadata": {},
     "output_type": "execute_result"
    }
   ],
   "source": [
    "imdb1['Certificate'].value_counts()"
   ]
  },
  {
   "cell_type": "markdown",
   "id": "4da7a11e",
   "metadata": {},
   "source": [
    "We have Sucessfully cleaned the data into 4 categories.\n",
    "\n"
   ]
  },
  {
   "cell_type": "code",
   "execution_count": 28,
   "id": "8625dc91",
   "metadata": {},
   "outputs": [
    {
     "data": {
      "text/plain": [
       "Text(0.5, 1.0, 'Meta Score by Certificates- KPI')"
      ]
     },
     "execution_count": 28,
     "metadata": {},
     "output_type": "execute_result"
    },
    {
     "data": {
      "image/png": "[encoded data removed]",
      "text/plain": [
       "<Figure size 926.925x216 with 1 Axes>"
      ]
     },
     "metadata": {},
     "output_type": "display_data"
    }
   ],
   "source": [
    "fig = sns.FacetGrid(imdb1,hue = 'Certificate', aspect = 4)\n",
    "fig.map(sns.kdeplot,'Meta_score', shade = True)\n",
    "\n",
    "\n",
    "fig.add_legend()\n",
    "\n",
    "plt.title('Meta Score by Certificates- KPI', size = 20)\n",
    "\n",
    "#Ploting a KDE plot to understand if Movie Certificate plays a role in Meta Score."
   ]
  },
  {
   "cell_type": "markdown",
   "id": "fa92c605",
   "metadata": {},
   "source": [
    "From the analysis, We can see that R rated movies have lower Meta Rating compared to other Certificates. Whereas U has the higest Meta rating"
   ]
  },
  {
   "cell_type": "markdown",
   "id": "0071233e",
   "metadata": {},
   "source": [
    "As we have 2 Metrix to determine the top 1000 movies, lets combine the 2 metrix to form a new metrix."
   ]
  },
  {
   "cell_type": "code",
   "execution_count": 29,
   "id": "af67571d",
   "metadata": {},
   "outputs": [
    {
     "data": {
      "text/html": [
       "<div>\n",
       "<style scoped>\n",
       "    .dataframe tbody tr th:only-of-type {\n",
       "        vertical-align: middle;\n",
       "    }\n",
       "\n",
       "    .dataframe tbody tr th {\n",
       "        vertical-align: top;\n",
       "    }\n",
       "\n",
       "    .dataframe thead th {\n",
       "        text-align: right;\n",
       "    }\n",
       "</style>\n",
       "<table border=\"1\" class=\"dataframe\">\n",
       "  <thead>\n",
       "    <tr style=\"text-align: right;\">\n",
       "      <th></th>\n",
       "      <th>Series_Title</th>\n",
       "      <th>Released_Year</th>\n",
       "      <th>Certificate</th>\n",
       "      <th>Runtime</th>\n",
       "      <th>Genre</th>\n",
       "      <th>IMDB_Rating</th>\n",
       "      <th>Meta_score</th>\n",
       "      <th>Director</th>\n",
       "      <th>No_of_Votes</th>\n",
       "      <th>Gross</th>\n",
       "      <th>Released Group</th>\n",
       "      <th>meta1_data</th>\n",
       "      <th>total</th>\n",
       "    </tr>\n",
       "  </thead>\n",
       "  <tbody>\n",
       "    <tr>\n",
       "      <th>0</th>\n",
       "      <td>The Shawshank Redemption</td>\n",
       "      <td>1994</td>\n",
       "      <td>A</td>\n",
       "      <td>142 min</td>\n",
       "      <td>Drama</td>\n",
       "      <td>9.3</td>\n",
       "      <td>80.0</td>\n",
       "      <td>Frank Darabont</td>\n",
       "      <td>2343110</td>\n",
       "      <td>28,341,469</td>\n",
       "      <td>1980-2000</td>\n",
       "      <td>8.0</td>\n",
       "      <td>8.65</td>\n",
       "    </tr>\n",
       "    <tr>\n",
       "      <th>1</th>\n",
       "      <td>The Godfather</td>\n",
       "      <td>1972</td>\n",
       "      <td>A</td>\n",
       "      <td>175 min</td>\n",
       "      <td>Crime, Drama</td>\n",
       "      <td>9.2</td>\n",
       "      <td>100.0</td>\n",
       "      <td>Francis Ford Coppola</td>\n",
       "      <td>1620367</td>\n",
       "      <td>134,966,411</td>\n",
       "      <td>Before 1980</td>\n",
       "      <td>10.0</td>\n",
       "      <td>9.60</td>\n",
       "    </tr>\n",
       "    <tr>\n",
       "      <th>2</th>\n",
       "      <td>The Dark Knight</td>\n",
       "      <td>2008</td>\n",
       "      <td>UA</td>\n",
       "      <td>152 min</td>\n",
       "      <td>Action, Crime, Drama</td>\n",
       "      <td>9.0</td>\n",
       "      <td>84.0</td>\n",
       "      <td>Christopher Nolan</td>\n",
       "      <td>2303232</td>\n",
       "      <td>534,858,444</td>\n",
       "      <td>After 2000</td>\n",
       "      <td>8.4</td>\n",
       "      <td>8.70</td>\n",
       "    </tr>\n",
       "    <tr>\n",
       "      <th>3</th>\n",
       "      <td>The Godfather: Part II</td>\n",
       "      <td>1974</td>\n",
       "      <td>A</td>\n",
       "      <td>202 min</td>\n",
       "      <td>Crime, Drama</td>\n",
       "      <td>9.0</td>\n",
       "      <td>90.0</td>\n",
       "      <td>Francis Ford Coppola</td>\n",
       "      <td>1129952</td>\n",
       "      <td>57,300,000</td>\n",
       "      <td>Before 1980</td>\n",
       "      <td>9.0</td>\n",
       "      <td>9.00</td>\n",
       "    </tr>\n",
       "    <tr>\n",
       "      <th>4</th>\n",
       "      <td>12 Angry Men</td>\n",
       "      <td>1957</td>\n",
       "      <td>U</td>\n",
       "      <td>96 min</td>\n",
       "      <td>Crime, Drama</td>\n",
       "      <td>9.0</td>\n",
       "      <td>96.0</td>\n",
       "      <td>Sidney Lumet</td>\n",
       "      <td>689845</td>\n",
       "      <td>4,360,000</td>\n",
       "      <td>Before 1980</td>\n",
       "      <td>9.6</td>\n",
       "      <td>9.30</td>\n",
       "    </tr>\n",
       "  </tbody>\n",
       "</table>\n",
       "</div>"
      ],
      "text/plain": [
       "               Series_Title  Released_Year Certificate  Runtime  \\\n",
       "0  The Shawshank Redemption           1994           A  142 min   \n",
       "1             The Godfather           1972           A  175 min   \n",
       "2           The Dark Knight           2008          UA  152 min   \n",
       "3    The Godfather: Part II           1974           A  202 min   \n",
       "4              12 Angry Men           1957           U   96 min   \n",
       "\n",
       "                  Genre  IMDB_Rating  Meta_score              Director  \\\n",
       "0                 Drama          9.3        80.0        Frank Darabont   \n",
       "1          Crime, Drama          9.2       100.0  Francis Ford Coppola   \n",
       "2  Action, Crime, Drama          9.0        84.0     Christopher Nolan   \n",
       "3          Crime, Drama          9.0        90.0  Francis Ford Coppola   \n",
       "4          Crime, Drama          9.0        96.0          Sidney Lumet   \n",
       "\n",
       "   No_of_Votes        Gross Released Group  meta1_data  total  \n",
       "0      2343110   28,341,469      1980-2000         8.0   8.65  \n",
       "1      1620367  134,966,411    Before 1980        10.0   9.60  \n",
       "2      2303232  534,858,444     After 2000         8.4   8.70  \n",
       "3      1129952   57,300,000    Before 1980         9.0   9.00  \n",
       "4       689845    4,360,000    Before 1980         9.6   9.30  "
      ]
     },
     "execution_count": 29,
     "metadata": {},
     "output_type": "execute_result"
    }
   ],
   "source": [
    "meta1 = imdb1['Meta_score']/10\n",
    "# Dividing Meta rating by 10 so that we have a rating out of 10 to match with IMBD rating.\n",
    "\n",
    "imdb1['meta1_data'] = DataFrame(meta1)\n",
    "#Converting it to a dataframe\n",
    "\n",
    "imdb1['total']= imdb1['IMDB_Rating']/2 + imdb1['meta1_data']/2\n",
    "#Adding a new column\n",
    "\n",
    "imdb1.head()"
   ]
  },
  {
   "cell_type": "code",
   "execution_count": 30,
   "id": "53753088",
   "metadata": {},
   "outputs": [
    {
     "data": {
      "text/html": [
       "<div>\n",
       "<style scoped>\n",
       "    .dataframe tbody tr th:only-of-type {\n",
       "        vertical-align: middle;\n",
       "    }\n",
       "\n",
       "    .dataframe tbody tr th {\n",
       "        vertical-align: top;\n",
       "    }\n",
       "\n",
       "    .dataframe thead th {\n",
       "        text-align: right;\n",
       "    }\n",
       "</style>\n",
       "<table border=\"1\" class=\"dataframe\">\n",
       "  <thead>\n",
       "    <tr style=\"text-align: right;\">\n",
       "      <th></th>\n",
       "      <th>Series_Title</th>\n",
       "      <th>Released_Year</th>\n",
       "      <th>Certificate</th>\n",
       "      <th>Runtime</th>\n",
       "      <th>Genre</th>\n",
       "      <th>IMDB_Rating</th>\n",
       "      <th>Meta_score</th>\n",
       "      <th>Director</th>\n",
       "      <th>No_of_Votes</th>\n",
       "      <th>Gross</th>\n",
       "      <th>Released Group</th>\n",
       "      <th>meta1_data</th>\n",
       "      <th>total</th>\n",
       "    </tr>\n",
       "  </thead>\n",
       "  <tbody>\n",
       "    <tr>\n",
       "      <th>1</th>\n",
       "      <td>The Godfather</td>\n",
       "      <td>1972</td>\n",
       "      <td>A</td>\n",
       "      <td>175 min</td>\n",
       "      <td>Crime, Drama</td>\n",
       "      <td>9.2</td>\n",
       "      <td>100.0</td>\n",
       "      <td>Francis Ford Coppola</td>\n",
       "      <td>1620367</td>\n",
       "      <td>134,966,411</td>\n",
       "      <td>Before 1980</td>\n",
       "      <td>10.0</td>\n",
       "      <td>9.60</td>\n",
       "    </tr>\n",
       "    <tr>\n",
       "      <th>4</th>\n",
       "      <td>12 Angry Men</td>\n",
       "      <td>1957</td>\n",
       "      <td>U</td>\n",
       "      <td>96 min</td>\n",
       "      <td>Crime, Drama</td>\n",
       "      <td>9.0</td>\n",
       "      <td>96.0</td>\n",
       "      <td>Sidney Lumet</td>\n",
       "      <td>689845</td>\n",
       "      <td>4,360,000</td>\n",
       "      <td>Before 1980</td>\n",
       "      <td>9.6</td>\n",
       "      <td>9.30</td>\n",
       "    </tr>\n",
       "    <tr>\n",
       "      <th>50</th>\n",
       "      <td>Casablanca</td>\n",
       "      <td>1942</td>\n",
       "      <td>U</td>\n",
       "      <td>102 min</td>\n",
       "      <td>Drama, Romance, War</td>\n",
       "      <td>8.5</td>\n",
       "      <td>100.0</td>\n",
       "      <td>Michael Curtiz</td>\n",
       "      <td>522093</td>\n",
       "      <td>1,024,560</td>\n",
       "      <td>Before 1980</td>\n",
       "      <td>10.0</td>\n",
       "      <td>9.25</td>\n",
       "    </tr>\n",
       "    <tr>\n",
       "      <th>31</th>\n",
       "      <td>Shichinin no samurai</td>\n",
       "      <td>1954</td>\n",
       "      <td>U</td>\n",
       "      <td>207 min</td>\n",
       "      <td>Action, Adventure, Drama</td>\n",
       "      <td>8.6</td>\n",
       "      <td>98.0</td>\n",
       "      <td>Akira Kurosawa</td>\n",
       "      <td>315744</td>\n",
       "      <td>269,061</td>\n",
       "      <td>Before 1980</td>\n",
       "      <td>9.8</td>\n",
       "      <td>9.20</td>\n",
       "    </tr>\n",
       "    <tr>\n",
       "      <th>52</th>\n",
       "      <td>City Lights</td>\n",
       "      <td>1931</td>\n",
       "      <td>R</td>\n",
       "      <td>87 min</td>\n",
       "      <td>Comedy, Drama, Romance</td>\n",
       "      <td>8.5</td>\n",
       "      <td>99.0</td>\n",
       "      <td>Charles Chaplin</td>\n",
       "      <td>167839</td>\n",
       "      <td>19,181</td>\n",
       "      <td>Before 1980</td>\n",
       "      <td>9.9</td>\n",
       "      <td>9.20</td>\n",
       "    </tr>\n",
       "    <tr>\n",
       "      <th>81</th>\n",
       "      <td>Rear Window</td>\n",
       "      <td>1954</td>\n",
       "      <td>U</td>\n",
       "      <td>112 min</td>\n",
       "      <td>Mystery, Thriller</td>\n",
       "      <td>8.4</td>\n",
       "      <td>100.0</td>\n",
       "      <td>Alfred Hitchcock</td>\n",
       "      <td>444074</td>\n",
       "      <td>36,764,313</td>\n",
       "      <td>Before 1980</td>\n",
       "      <td>10.0</td>\n",
       "      <td>9.20</td>\n",
       "    </tr>\n",
       "    <tr>\n",
       "      <th>5</th>\n",
       "      <td>The Lord of the Rings: The Return of the King</td>\n",
       "      <td>2003</td>\n",
       "      <td>U</td>\n",
       "      <td>201 min</td>\n",
       "      <td>Action, Adventure, Drama</td>\n",
       "      <td>8.9</td>\n",
       "      <td>94.0</td>\n",
       "      <td>Peter Jackson</td>\n",
       "      <td>1642758</td>\n",
       "      <td>377,845,905</td>\n",
       "      <td>After 2000</td>\n",
       "      <td>9.4</td>\n",
       "      <td>9.15</td>\n",
       "    </tr>\n",
       "    <tr>\n",
       "      <th>6</th>\n",
       "      <td>Pulp Fiction</td>\n",
       "      <td>1994</td>\n",
       "      <td>A</td>\n",
       "      <td>154 min</td>\n",
       "      <td>Crime, Drama</td>\n",
       "      <td>8.9</td>\n",
       "      <td>94.0</td>\n",
       "      <td>Quentin Tarantino</td>\n",
       "      <td>1826188</td>\n",
       "      <td>107,928,762</td>\n",
       "      <td>1980-2000</td>\n",
       "      <td>9.4</td>\n",
       "      <td>9.15</td>\n",
       "    </tr>\n",
       "    <tr>\n",
       "      <th>7</th>\n",
       "      <td>Schindler's List</td>\n",
       "      <td>1993</td>\n",
       "      <td>A</td>\n",
       "      <td>195 min</td>\n",
       "      <td>Biography, Drama, History</td>\n",
       "      <td>8.9</td>\n",
       "      <td>94.0</td>\n",
       "      <td>Steven Spielberg</td>\n",
       "      <td>1213505</td>\n",
       "      <td>96,898,818</td>\n",
       "      <td>1980-2000</td>\n",
       "      <td>9.4</td>\n",
       "      <td>9.15</td>\n",
       "    </tr>\n",
       "    <tr>\n",
       "      <th>116</th>\n",
       "      <td>Lawrence of Arabia</td>\n",
       "      <td>1962</td>\n",
       "      <td>U</td>\n",
       "      <td>228 min</td>\n",
       "      <td>Adventure, Biography, Drama</td>\n",
       "      <td>8.3</td>\n",
       "      <td>100.0</td>\n",
       "      <td>David Lean</td>\n",
       "      <td>268085</td>\n",
       "      <td>44,824,144</td>\n",
       "      <td>Before 1980</td>\n",
       "      <td>10.0</td>\n",
       "      <td>9.15</td>\n",
       "    </tr>\n",
       "  </tbody>\n",
       "</table>\n",
       "</div>"
      ],
      "text/plain": [
       "                                      Series_Title  Released_Year Certificate  \\\n",
       "1                                    The Godfather           1972           A   \n",
       "4                                     12 Angry Men           1957           U   \n",
       "50                                      Casablanca           1942           U   \n",
       "31                            Shichinin no samurai           1954           U   \n",
       "52                                     City Lights           1931           R   \n",
       "81                                     Rear Window           1954           U   \n",
       "5    The Lord of the Rings: The Return of the King           2003           U   \n",
       "6                                     Pulp Fiction           1994           A   \n",
       "7                                 Schindler's List           1993           A   \n",
       "116                             Lawrence of Arabia           1962           U   \n",
       "\n",
       "     Runtime                        Genre  IMDB_Rating  Meta_score  \\\n",
       "1    175 min                 Crime, Drama          9.2       100.0   \n",
       "4     96 min                 Crime, Drama          9.0        96.0   \n",
       "50   102 min          Drama, Romance, War          8.5       100.0   \n",
       "31   207 min     Action, Adventure, Drama          8.6        98.0   \n",
       "52    87 min       Comedy, Drama, Romance          8.5        99.0   \n",
       "81   112 min            Mystery, Thriller          8.4       100.0   \n",
       "5    201 min     Action, Adventure, Drama          8.9        94.0   \n",
       "6    154 min                 Crime, Drama          8.9        94.0   \n",
       "7    195 min    Biography, Drama, History          8.9        94.0   \n",
       "116  228 min  Adventure, Biography, Drama          8.3       100.0   \n",
       "\n",
       "                 Director  No_of_Votes        Gross Released Group  \\\n",
       "1    Francis Ford Coppola      1620367  134,966,411    Before 1980   \n",
       "4            Sidney Lumet       689845    4,360,000    Before 1980   \n",
       "50         Michael Curtiz       522093    1,024,560    Before 1980   \n",
       "31         Akira Kurosawa       315744      269,061    Before 1980   \n",
       "52        Charles Chaplin       167839       19,181    Before 1980   \n",
       "81       Alfred Hitchcock       444074   36,764,313    Before 1980   \n",
       "5           Peter Jackson      1642758  377,845,905     After 2000   \n",
       "6       Quentin Tarantino      1826188  107,928,762      1980-2000   \n",
       "7        Steven Spielberg      1213505   96,898,818      1980-2000   \n",
       "116            David Lean       268085   44,824,144    Before 1980   \n",
       "\n",
       "     meta1_data  total  \n",
       "1          10.0   9.60  \n",
       "4           9.6   9.30  \n",
       "50         10.0   9.25  \n",
       "31          9.8   9.20  \n",
       "52          9.9   9.20  \n",
       "81         10.0   9.20  \n",
       "5           9.4   9.15  \n",
       "6           9.4   9.15  \n",
       "7           9.4   9.15  \n",
       "116        10.0   9.15  "
      ]
     },
     "execution_count": 30,
     "metadata": {},
     "output_type": "execute_result"
    }
   ],
   "source": [
    "imdb1.nlargest(n= 10, columns='total')\n",
    "\n",
    "#Finding the top 10 movies according to the new metrix we created."
   ]
  },
  {
   "cell_type": "markdown",
   "id": "4cb105f7",
   "metadata": {},
   "source": [
    "Here we can observe the top 10 movies formulated from our new total metrix. \n",
    "\n",
    "It is astonishing to see that Casablance which is the 50th best IMDB movie is now at number 3 with our new metrix."
   ]
  },
  {
   "cell_type": "code",
   "execution_count": 31,
   "id": "2a37cee2",
   "metadata": {},
   "outputs": [
    {
     "data": {
      "text/plain": [
       "Alfred Hitchcock     14\n",
       "Steven Spielberg     13\n",
       "Hayao Miyazaki       11\n",
       "Martin Scorsese      10\n",
       "Akira Kurosawa       10\n",
       "Stanley Kubrick       9\n",
       "Billy Wilder          9\n",
       "Woody Allen           9\n",
       "Christopher Nolan     8\n",
       "Quentin Tarantino     8\n",
       "Name: Director, dtype: int64"
      ]
     },
     "execution_count": 31,
     "metadata": {},
     "output_type": "execute_result"
    }
   ],
   "source": [
    "imdb1['Director'].value_counts().head(10)\n",
    "\n",
    "# Finding if there are Directors who made multiple movies in the top 1000 IMDB list"
   ]
  },
  {
   "cell_type": "markdown",
   "id": "62c45e32",
   "metadata": {},
   "source": [
    "Here We can see the top 10 Director who made multiple movies in the top 1000 IMDB movies.\n",
    "\n",
    "Now lets try to find the best director by combining this with our total rating metrix."
   ]
  },
  {
   "cell_type": "code",
   "execution_count": 32,
   "id": "6b2d4fda",
   "metadata": {},
   "outputs": [
    {
     "data": {
      "text/plain": [
       "Director\n",
       "Alfred Hitchcock     119.55\n",
       "Steven Spielberg     104.55\n",
       "Hayao Miyazaki        89.50\n",
       "Martin Scorsese       82.15\n",
       "Stanley Kubrick       74.90\n",
       "Christopher Nolan     64.85\n",
       "Woody Allen           64.15\n",
       "Quentin Tarantino     64.00\n",
       "Clint Eastwood        62.50\n",
       "David Fincher         61.40\n",
       "Name: total, dtype: float64"
      ]
     },
     "execution_count": 32,
     "metadata": {},
     "output_type": "execute_result"
    }
   ],
   "source": [
    "Best_director = imdb1.groupby(\"Director\")[\"total\"].sum()\n",
    "#Grouping by the Director and corresponding total's sum\n",
    "\n",
    "Best_director.nlargest(n= 10).head(10)\n",
    "# finding the top 10"
   ]
  },
  {
   "cell_type": "markdown",
   "id": "586055bf",
   "metadata": {},
   "source": [
    "Here We have the top 10 Directors.\n"
   ]
  },
  {
   "cell_type": "code",
   "execution_count": 35,
   "id": "a31a5464",
   "metadata": {},
   "outputs": [
    {
     "data": {
      "text/plain": [
       "Text(0.5, 1.0, 'Box plot of Released Group to Total Rating')"
      ]
     },
     "execution_count": 35,
     "metadata": {},
     "output_type": "execute_result"
    },
    {
     "data": {
      "image/png": "[encoded data removed]",
      "text/plain": [
       "<Figure size 1440x432 with 1 Axes>"
      ]
     },
     "metadata": {},
     "output_type": "display_data"
    }
   ],
   "source": [
    "sns.boxplot(x ='Released Group', y='total', data=imdb1 )\n",
    "#ploting Released group to total rating\n",
    "\n",
    "plt.title( 'Box plot of Released Group to Total Rating', size = 20)"
   ]
  },
  {
   "cell_type": "markdown",
   "id": "a939c75c",
   "metadata": {},
   "source": [
    "The middle like of box plot represents the Median value, the top most and bottom most line represents the upper limit and teh lower limit. The inner 2 lines represnt the 1st 1st quartile.\n",
    "\n",
    "Here we can observe that movies before 1980 had the largest median, upper and lower limit, Whereas After 2000 has the lowest."
   ]
  },
  {
   "cell_type": "code",
   "execution_count": 36,
   "id": "b486f295",
   "metadata": {},
   "outputs": [],
   "source": [
    "# We will be looking at the Duration of the movies.\n",
    "#To manipulate the data we will first have to convert Duration column to an int.\n",
    "\n",
    "Times = []\n",
    "\n",
    "for time in imdb1.Runtime:\n",
    "    Times.append(time[:3])\n",
    "    \n",
    "# creating a forloop to take out just the first 3 objects(in this case numbers) from the duration column    \n",
    "    \n",
    "time_1 = DataFrame(Times)  \n",
    "#creating a Dataframe\n",
    "\n",
    "\n",
    "time_1.columns = ['Time']\n",
    "#naming the column\n",
    "\n",
    "\n",
    "time_1['Time'] = time_1['Time'].apply(int)\n",
    "#converting it into int"
   ]
  },
  {
   "cell_type": "code",
   "execution_count": 38,
   "id": "99e7ff59",
   "metadata": {},
   "outputs": [
    {
     "data": {
      "text/plain": [
       "Text(0.5, 1.0, 'Duration chart of the top 1000 IMDB movies')"
      ]
     },
     "execution_count": 38,
     "metadata": {},
     "output_type": "execute_result"
    },
    {
     "data": {
      "image/png": "[encoded data removed]",
      "text/plain": [
       "<Figure size 1440x432 with 1 Axes>"
      ]
     },
     "metadata": {},
     "output_type": "display_data"
    }
   ],
   "source": [
    "time_1['Time'].hist(bins=100)\n",
    "\n",
    "plt.title('Duration chart of the top 1000 IMDB movies', size = 20)"
   ]
  },
  {
   "cell_type": "markdown",
   "id": "d72d21b5",
   "metadata": {},
   "source": [
    "Here we can observe that almost 70% of the movies are between 100 and 150 min long."
   ]
  },
  {
   "cell_type": "code",
   "execution_count": 40,
   "id": "02ed82a9",
   "metadata": {},
   "outputs": [],
   "source": [
    "# we will now look at the corelation between IMDB ratings, Meta rating and also our formulated total rating\n",
    "\n",
    "imdb2 = imdb1.drop(columns=['Series_Title','Released_Year','Certificate','Runtime','Genre','Meta_score','Director',\n",
    "                           'No_of_Votes', 'Gross','Released Group'])\n",
    "#creating a new dataframe with just IMDB ratings, Meta rating and total rating"
   ]
  },
  {
   "cell_type": "code",
   "execution_count": 41,
   "id": "5349b174",
   "metadata": {},
   "outputs": [
    {
     "data": {
      "text/html": [
       "<div>\n",
       "<style scoped>\n",
       "    .dataframe tbody tr th:only-of-type {\n",
       "        vertical-align: middle;\n",
       "    }\n",
       "\n",
       "    .dataframe tbody tr th {\n",
       "        vertical-align: top;\n",
       "    }\n",
       "\n",
       "    .dataframe thead th {\n",
       "        text-align: right;\n",
       "    }\n",
       "</style>\n",
       "<table border=\"1\" class=\"dataframe\">\n",
       "  <thead>\n",
       "    <tr style=\"text-align: right;\">\n",
       "      <th></th>\n",
       "      <th>IMDB_Rating</th>\n",
       "      <th>meta1_data</th>\n",
       "      <th>total</th>\n",
       "    </tr>\n",
       "  </thead>\n",
       "  <tbody>\n",
       "    <tr>\n",
       "      <th>0</th>\n",
       "      <td>9.3</td>\n",
       "      <td>8.0</td>\n",
       "      <td>8.65</td>\n",
       "    </tr>\n",
       "    <tr>\n",
       "      <th>1</th>\n",
       "      <td>9.2</td>\n",
       "      <td>10.0</td>\n",
       "      <td>9.60</td>\n",
       "    </tr>\n",
       "    <tr>\n",
       "      <th>2</th>\n",
       "      <td>9.0</td>\n",
       "      <td>8.4</td>\n",
       "      <td>8.70</td>\n",
       "    </tr>\n",
       "    <tr>\n",
       "      <th>3</th>\n",
       "      <td>9.0</td>\n",
       "      <td>9.0</td>\n",
       "      <td>9.00</td>\n",
       "    </tr>\n",
       "    <tr>\n",
       "      <th>4</th>\n",
       "      <td>9.0</td>\n",
       "      <td>9.6</td>\n",
       "      <td>9.30</td>\n",
       "    </tr>\n",
       "  </tbody>\n",
       "</table>\n",
       "</div>"
      ],
      "text/plain": [
       "   IMDB_Rating  meta1_data  total\n",
       "0          9.3         8.0   8.65\n",
       "1          9.2        10.0   9.60\n",
       "2          9.0         8.4   8.70\n",
       "3          9.0         9.0   9.00\n",
       "4          9.0         9.6   9.30"
      ]
     },
     "execution_count": 41,
     "metadata": {},
     "output_type": "execute_result"
    }
   ],
   "source": [
    "imdb2.head()\n",
    "\n",
    "#perfect, we got a new dataframe with just IMDB ratings, Meta rating and total rating"
   ]
  },
  {
   "cell_type": "code",
   "execution_count": 44,
   "id": "3e3b7c6f",
   "metadata": {},
   "outputs": [
    {
     "data": {
      "text/plain": [
       "<seaborn.axisgrid.PairGrid at 0x7fa8a0043d30>"
      ]
     },
     "execution_count": 44,
     "metadata": {},
     "output_type": "execute_result"
    },
    {
     "data": {
      "image/png": "[encoded data removed]",
      "text/plain": [
       "<Figure size 540x540 with 12 Axes>"
      ]
     },
     "metadata": {},
     "output_type": "display_data"
    }
   ],
   "source": [
    " return_fig = sns.PairGrid(imdb2.dropna())\n",
    "    \n",
    "return_fig.map_upper(plt.scatter,color = 'purple')\n",
    "\n",
    "return_fig.map_lower(sns.kdeplot, cmap = 'cool_d')\n",
    "\n",
    "return_fig.map_diag(plt.hist,bins= 30)\n",
    "\n",
    "# creating corelation chart using Pairgrid"
   ]
  },
  {
   "cell_type": "markdown",
   "id": "c9a3ace9",
   "metadata": {},
   "source": [
    "Here we can observe that meta rating and our total rating are posatively corelated. \n",
    "\n",
    "IMBD and total and also IMDB and Meta are not that powerfully corelated."
   ]
  },
  {
   "cell_type": "markdown",
   "id": "453aa8cb",
   "metadata": {},
   "source": [
    " # conclusion\n",
    "\n",
    "\n",
    "1) Majority of the movies which are in IMDB top 1000 list were made after 2000.\n",
    "\n",
    "2) Drama is the most common Genre within top 1000 IMDB movies.\n",
    "\n",
    "3) certificates does play a role in overall ratings of the movie, R rated movies have lower Meta Rating compared to other Certificates. Whereas U has the higest Meta rating\n",
    "\n",
    "4) After creating the new metrix we can observe that The Godfather, 12 Angry Men, Casablanca are the top 3 movies.\n",
    "\n",
    "5) The top 3 directors are Alfred Hitchcock, Steven Spielberg, Hayao Miyazaki.\n",
    "\n",
    "6) movies before 1980 had the highest median total rating, Whereas After 2000 has the lowest Median total rating.\n",
    "\n",
    "7) Average movie duration when compared to the top 1000 IMDB movies are 100-150min.\n",
    "\n",
    "8) Meta rating and the total rating are posatively corelated. Whereas IMBD and total and also IMDB and Meta are not that powerfully corelated.\n",
    "\n",
    "9) After analysing the data, the best formula to increase the chances to obtain a higher Meta and IMDB rating is:-\n",
    "   \n",
    "   @ producing a movie with Drama+Comedy Genre with U certificate and movie duration between 100-150 min.\n",
    "   "
   ]
  },
  {
   "cell_type": "code",
   "execution_count": null,
   "id": "34279a07",
   "metadata": {},
   "outputs": [],
   "source": []
  }
 ],
 "metadata": {
  "kernelspec": {
   "display_name": "Python 3 (ipykernel)",
   "language": "python",
   "name": "python3"
  },
  "language_info": {
   "codemirror_mode": {
    "name": "ipython",
    "version": 3
   },
   "file_extension": ".py",
   "mimetype": "text/x-python",
   "name": "python",
   "nbconvert_exporter": "python",
   "pygments_lexer": "ipython3",
   "version": "3.9.12"
  }
 },
 "nbformat": 4,
 "nbformat_minor": 5
}
